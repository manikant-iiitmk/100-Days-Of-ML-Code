{
  "nbformat": 4,
  "nbformat_minor": 0,
  "metadata": {
    "colab": {
      "name": "WebScraping(URL )ipynb",
      "version": "0.3.2",
      "provenance": [],
      "include_colab_link": true
    },
    "kernelspec": {
      "name": "python3",
      "display_name": "Python 3"
    }
  },
  "cells": [
    {
      "cell_type": "markdown",
      "metadata": {
        "id": "view-in-github",
        "colab_type": "text"
      },
      "source": [
        "<a href=\"https://colab.research.google.com/github/manikant-iiitmk/100-Days-Of-ML-Code/blob/master/WebScraping(URL_)ipynb.ipynb\" target=\"_parent\"><img src=\"https://colab.research.google.com/assets/colab-badge.svg\" alt=\"Open In Colab\"/></a>"
      ]
    },
    {
      "cell_type": "code",
      "metadata": {
        "id": "L8ByYOyv5ZLm",
        "colab_type": "code",
        "colab": {}
      },
      "source": [
        "import pandas as pd\n",
        "import numpy as np\n",
        "import matplotlib.pyplot as plt\n",
        "import seaborn as sns\n",
        "%matplotlib inline"
      ],
      "execution_count": 0,
      "outputs": []
    },
    {
      "cell_type": "code",
      "metadata": {
        "id": "-8XDjnmv5owi",
        "colab_type": "code",
        "colab": {}
      },
      "source": [
        "from urllib.request import urlopen\n",
        "from bs4 import BeautifulSoup"
      ],
      "execution_count": 0,
      "outputs": []
    },
    {
      "cell_type": "code",
      "metadata": {
        "id": "7AHIFOz25vtV",
        "colab_type": "code",
        "colab": {}
      },
      "source": [
        "url = \"http://www.google.com\"\n",
        "html = urlopen(url)"
      ],
      "execution_count": 0,
      "outputs": []
    },
    {
      "cell_type": "code",
      "metadata": {
        "id": "RX8kLxPD506F",
        "colab_type": "code",
        "outputId": "4ccd66c5-1e92-45e4-a506-0e205ce86052",
        "colab": {
          "base_uri": "https://localhost:8080/",
          "height": 36
        }
      },
      "source": [
        "soup = BeautifulSoup(html, 'lxml')\n",
        "type(soup)"
      ],
      "execution_count": 0,
      "outputs": [
        {
          "output_type": "execute_result",
          "data": {
            "text/plain": [
              "bs4.BeautifulSoup"
            ]
          },
          "metadata": {
            "tags": []
          },
          "execution_count": 13
        }
      ]
    },
    {
      "cell_type": "code",
      "metadata": {
        "id": "tbO7CFZC55Rc",
        "colab_type": "code",
        "outputId": "bf66669c-3af0-4660-b1d1-10e770f0b61d",
        "colab": {
          "base_uri": "https://localhost:8080/",
          "height": 36
        }
      },
      "source": [
        "# Get the title\n",
        "title = soup.title\n",
        "print(title)"
      ],
      "execution_count": 0,
      "outputs": [
        {
          "output_type": "stream",
          "text": [
            "<title>Google</title>\n"
          ],
          "name": "stdout"
        }
      ]
    },
    {
      "cell_type": "code",
      "metadata": {
        "id": "PQm7fhSH56vw",
        "colab_type": "code",
        "colab": {}
      },
      "source": [
        "# Print out the text\n",
        "text = soup.get_text()\n",
        "#print(soup.text)"
      ],
      "execution_count": 0,
      "outputs": []
    },
    {
      "cell_type": "code",
      "metadata": {
        "id": "aaGhQ7LW6JSq",
        "colab_type": "code",
        "outputId": "d2a62fc4-57fa-42de-a5b2-0832bfa10994",
        "colab": {
          "base_uri": "https://localhost:8080/",
          "height": 392
        }
      },
      "source": [
        "soup.find_all('a')"
      ],
      "execution_count": 0,
      "outputs": [
        {
          "output_type": "execute_result",
          "data": {
            "text/plain": [
              "[<a class=\"gb1\" href=\"http://www.google.com/imghp?hl=en&amp;tab=wi\">Images</a>,\n",
              " <a class=\"gb1\" href=\"http://maps.google.com/maps?hl=en&amp;tab=wl\">Maps</a>,\n",
              " <a class=\"gb1\" href=\"https://play.google.com/?hl=en&amp;tab=w8\">Play</a>,\n",
              " <a class=\"gb1\" href=\"http://www.youtube.com/?gl=US&amp;tab=w1\">YouTube</a>,\n",
              " <a class=\"gb1\" href=\"http://news.google.com/nwshp?hl=en&amp;tab=wn\">News</a>,\n",
              " <a class=\"gb1\" href=\"https://mail.google.com/mail/?tab=wm\">Gmail</a>,\n",
              " <a class=\"gb1\" href=\"https://drive.google.com/?tab=wo\">Drive</a>,\n",
              " <a class=\"gb1\" href=\"https://www.google.com/intl/en/about/products?tab=wh\" style=\"text-decoration:none\"><u>More</u> »</a>,\n",
              " <a class=\"gb4\" href=\"http://www.google.com/history/optout?hl=en\">Web History</a>,\n",
              " <a class=\"gb4\" href=\"/preferences?hl=en\">Settings</a>,\n",
              " <a class=\"gb4\" href=\"https://accounts.google.com/ServiceLogin?hl=en&amp;passive=true&amp;continue=http://www.google.com/\" id=\"gb_70\" target=\"_top\">Sign in</a>,\n",
              " <a href=\"/search?ie=UTF-8&amp;q=Falafel&amp;oi=ddle&amp;ct=119272728&amp;hl=en&amp;kgmid=/m/015w3y&amp;sa=X&amp;ved=0ahUKEwjfgMKd9vLiAhWSnFkKHRLzBDoQPQgD\"><img alt=\"Celebrating Falafel\" border=\"0\" height=\"220\" id=\"hplogo\" onload=\"window.lol&amp;&amp;lol()\" src=\"/logos/doodles/2019/celebrating-falafel-5631472089169920-law.gif\" title=\"Celebrating Falafel\" width=\"527\"/><br/></a>,\n",
              " <a href=\"/advanced_search?hl=en&amp;authuser=0\">Advanced search</a>,\n",
              " <a href=\"/language_tools?hl=en&amp;authuser=0\">Language tools</a>,\n",
              " <a href=\"/intl/en/ads/\">Advertising Programs</a>,\n",
              " <a href=\"/services/\">Business Solutions</a>,\n",
              " <a href=\"/intl/en/about.html\">About Google</a>,\n",
              " <a href=\"/intl/en/policies/privacy/\">Privacy</a>,\n",
              " <a href=\"/intl/en/policies/terms/\">Terms</a>]"
            ]
          },
          "metadata": {
            "tags": []
          },
          "execution_count": 16
        }
      ]
    },
    {
      "cell_type": "code",
      "metadata": {
        "id": "OPsI4NVa6JQ_",
        "colab_type": "code",
        "outputId": "cd1f8328-7a86-490d-c242-71c7596c2483",
        "colab": {
          "base_uri": "https://localhost:8080/",
          "height": 372
        }
      },
      "source": [
        "all_links = soup.find_all(\"a\")\n",
        "for link in all_links:\n",
        "    print(link.get(\"href\"))"
      ],
      "execution_count": 0,
      "outputs": [
        {
          "output_type": "stream",
          "text": [
            "http://www.google.com/imghp?hl=en&tab=wi\n",
            "http://maps.google.com/maps?hl=en&tab=wl\n",
            "https://play.google.com/?hl=en&tab=w8\n",
            "http://www.youtube.com/?gl=US&tab=w1\n",
            "http://news.google.com/nwshp?hl=en&tab=wn\n",
            "https://mail.google.com/mail/?tab=wm\n",
            "https://drive.google.com/?tab=wo\n",
            "https://www.google.com/intl/en/about/products?tab=wh\n",
            "http://www.google.com/history/optout?hl=en\n",
            "/preferences?hl=en\n",
            "https://accounts.google.com/ServiceLogin?hl=en&passive=true&continue=http://www.google.com/\n",
            "/search?ie=UTF-8&q=Falafel&oi=ddle&ct=119272728&hl=en&kgmid=/m/015w3y&sa=X&ved=0ahUKEwjfgMKd9vLiAhWSnFkKHRLzBDoQPQgD\n",
            "/advanced_search?hl=en&authuser=0\n",
            "/language_tools?hl=en&authuser=0\n",
            "/intl/en/ads/\n",
            "/services/\n",
            "/intl/en/about.html\n",
            "/intl/en/policies/privacy/\n",
            "/intl/en/policies/terms/\n"
          ],
          "name": "stdout"
        }
      ]
    },
    {
      "cell_type": "code",
      "metadata": {
        "id": "nfH-MlCw6S5z",
        "colab_type": "code",
        "outputId": "65b8ee21-660e-4447-c335-1d3bf6b0095c",
        "colab": {
          "base_uri": "https://localhost:8080/",
          "height": 56
        }
      },
      "source": [
        "# Print the first 10 rows for sanity check\n",
        "rows = soup.find_all('tr')\n",
        "print(rows[:10])"
      ],
      "execution_count": 0,
      "outputs": [
        {
          "output_type": "stream",
          "text": [
            "[<tr valign=\"top\"><td width=\"25%\"> </td><td align=\"center\" nowrap=\"\"><input name=\"ie\" type=\"hidden\" value=\"ISO-8859-1\"/><input name=\"hl\" type=\"hidden\" value=\"en\"/><input name=\"source\" type=\"hidden\" value=\"hp\"/><input name=\"biw\" type=\"hidden\"/><input name=\"bih\" type=\"hidden\"/><div class=\"ds\" style=\"height:32px;margin:4px 0\"><input autocomplete=\"off\" class=\"lst\" maxlength=\"2048\" name=\"q\" size=\"57\" style=\"color:#000;margin:0;padding:5px 8px 0 6px;vertical-align:top\" title=\"Google Search\" value=\"\"/></div><br style=\"line-height:0\"/><span class=\"ds\"><span class=\"lsbb\"><input class=\"lsb\" name=\"btnG\" type=\"submit\" value=\"Google Search\"/></span></span><span class=\"ds\"><span class=\"lsbb\"><input class=\"lsb\" name=\"btnI\" onclick=\"if(this.form.q.value)this.checked=1; else top.location='/doodles/'\" type=\"submit\" value=\"I'm Feeling Lucky\"/></span></span></td><td align=\"left\" class=\"fl sblc\" nowrap=\"\" width=\"25%\"><a href=\"/advanced_search?hl=en&amp;authuser=0\">Advanced search</a><a href=\"/language_tools?hl=en&amp;authuser=0\">Language tools</a></td></tr>]\n"
          ],
          "name": "stdout"
        }
      ]
    }
  ]
}